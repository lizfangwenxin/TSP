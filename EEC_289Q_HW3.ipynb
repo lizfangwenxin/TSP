{
 "cells": [
  {
   "cell_type": "markdown",
   "metadata": {},
   "source": [
    "# EEC 289Q: Homework #3\n",
    "\n",
    "Algorithm evaluation to solve the Traveling Salesman Problem (TSP) within a practical limit of 15 minutes!"
   ]
  },
  {
   "cell_type": "markdown",
   "metadata": {},
   "source": [
    "## Imports"
   ]
  },
  {
   "cell_type": "code",
   "execution_count": 1,
   "metadata": {},
   "outputs": [],
   "source": [
    "import numpy as np\n",
    "import random\n",
    "import math\n",
    "import time"
   ]
  },
  {
   "cell_type": "markdown",
   "metadata": {},
   "source": [
    "## Function to Import Graphs\n",
    "\n",
    "The following function takes in an input txt file that has line 1 as the number of nodes, line 2 with the headers, and the subsequent lines as the node connections and their costs."
   ]
  },
  {
   "cell_type": "code",
   "execution_count": 2,
   "metadata": {},
   "outputs": [],
   "source": [
    "def parse_graph(filename):\n",
    "    with open(filename, 'r') as file:\n",
    "        n = int(file.readline().strip())  # Reads the number of nodes\n",
    "        file.readline()  # Skip the header line\n",
    "        distance_matrix = np.full((n, n), np.inf)  # Initialize with infinities\n",
    "        for line in file:\n",
    "            i, j, dist = map(float, line.strip().split())\n",
    "            i, j = int(i) - 1, int(j) - 1  # Adjust for zero-based indexing\n",
    "            distance_matrix[i][j] = dist\n",
    "            distance_matrix[j][i] = dist  # Ensure symmetry for undirected graph\n",
    "        np.fill_diagonal(distance_matrix, 0)  # Zero distance to self\n",
    "    return distance_matrix"
   ]
  },
  {
   "cell_type": "markdown",
   "metadata": {},
   "source": [
    "## Function to Calculate Cost"
   ]
  },
  {
   "cell_type": "code",
   "execution_count": 3,
   "metadata": {},
   "outputs": [],
   "source": [
    "def calculate_cost(solution, distance_matrix):\n",
    "    return sum(distance_matrix[solution[i], solution[(i + 1) % len(solution)]] for i in range(len(solution)))"
   ]
  },
  {
   "cell_type": "markdown",
   "metadata": {},
   "source": [
    "## Simulated Annealing Algorithm Function"
   ]
  },
  {
   "cell_type": "code",
   "execution_count": 4,
   "metadata": {},
   "outputs": [],
   "source": [
    "\n",
    "def simulated_annealing(distance_matrix, graph_type, max_time=900, SID='x'):\n",
    "    # Checking initial time to keep within 15 minutes\n",
    "    start_time = time.time()\n",
    "    n = len(distance_matrix)\n",
    "    # Shuffle to find initial solution\n",
    "    current_solution = np.arange(n)\n",
    "    np.random.shuffle(current_solution)\n",
    "    # Calculate current cost\n",
    "    current_cost = calculate_cost(current_solution, distance_matrix)\n",
    "\n",
    "    # Initialize parameters for Simulated Annealing\n",
    "    initial_temp = 10.0\n",
    "    final_temp = 1e-3\n",
    "    alpha = 0.995\n",
    "    temp = initial_temp\n",
    "\n",
    "\n",
    "    # Initializing cycle count\n",
    "    visited_cycles = 0\n",
    "    while time.time() - start_time < max_time:\n",
    "        # Sorting and reversing a segment\n",
    "        i, j = sorted(random.sample(range(n), 2))\n",
    "        new_solution = current_solution.copy()\n",
    "        new_solution[i:j + 1] = new_solution[i:j + 1][::-1]  # Reverse segment\n",
    "        new_cost = calculate_cost(new_solution, distance_matrix)\n",
    "\n",
    "        # Decision point to see if new solution is adopted to explore further\n",
    "        if new_cost < current_cost or math.exp((current_cost - new_cost) / temp) > random.random():\n",
    "            current_solution, current_cost = new_solution, new_cost\n",
    "\n",
    "        visited_cycles += 1\n",
    "        temp = max(temp * alpha, final_temp)  # Cool down\n",
    "\n",
    "    # Saving the best solution to a text file\n",
    "    solution_filename = f\"solution_{SID}_{graph_type}.txt\"\n",
    "    with open(solution_filename, 'w') as file:\n",
    "        solution_sequence = ' '.join(map(str, current_solution + 1))  # Convert zero-based indices to one-based\n",
    "        file.write(solution_sequence)\n",
    "\n",
    "    return current_solution, current_cost, visited_cycles"
   ]
  },
  {
   "cell_type": "markdown",
   "metadata": {},
   "source": [
    "## Running the Algorithm"
   ]
  },
  {
   "cell_type": "code",
   "execution_count": 5,
   "metadata": {},
   "outputs": [],
   "source": [
    "filename = '1000_randomDistance.txt'  # Adjust to your file path\n",
    "distance_matrix = parse_graph(filename)\n",
    "solution, cost, visited_cycles = simulated_annealing(distance_matrix, 'randomDistance')\n"
   ]
  },
  {
   "cell_type": "code",
   "execution_count": 6,
   "metadata": {},
   "outputs": [
    {
     "name": "stdout",
     "output_type": "stream",
     "text": [
      "Best path cost: 1171.71\n",
      "Visited cycles: 2.0e+06\n"
     ]
    }
   ],
   "source": [
    "# Format and print the results\n",
    "print(f\"Best path cost: {cost:.2f}\")\n",
    "print(f\"Visited cycles: {visited_cycles:.1e}\")"
   ]
  },
  {
   "cell_type": "code",
   "execution_count": 7,
   "metadata": {},
   "outputs": [],
   "source": [
    "filename = '1000_euclidianDistance.txt'  # Adjust to your file path\n",
    "distance_matrix = parse_graph(filename)\n",
    "solution, cost, visited_cycles = simulated_annealing(distance_matrix, 'euclidianDistance')"
   ]
  },
  {
   "cell_type": "code",
   "execution_count": 8,
   "metadata": {},
   "outputs": [
    {
     "name": "stdout",
     "output_type": "stream",
     "text": [
      "Best path cost: 2737.87\n",
      "Visited cycles: 1.9e+06\n"
     ]
    }
   ],
   "source": [
    "# Format and print the results\n",
    "print(f\"Best path cost: {cost:.2f}\")\n",
    "print(f\"Visited cycles: {visited_cycles:.1e}\")"
   ]
  },
  {
   "cell_type": "code",
   "execution_count": null,
   "metadata": {},
   "outputs": [],
   "source": [
    "unique_solution = verify_solution_uniqueness(solution)\n"
   ]
  },
  {
   "cell_type": "code",
   "execution_count": null,
   "metadata": {},
   "outputs": [],
   "source": []
  }
 ],
 "metadata": {
  "kernelspec": {
   "display_name": "Python 3 (ipykernel)",
   "language": "python",
   "name": "python3"
  },
  "language_info": {
   "codemirror_mode": {
    "name": "ipython",
    "version": 3
   },
   "file_extension": ".py",
   "mimetype": "text/x-python",
   "name": "python",
   "nbconvert_exporter": "python",
   "pygments_lexer": "ipython3",
   "version": "3.9.5"
  }
 },
 "nbformat": 4,
 "nbformat_minor": 2
}
